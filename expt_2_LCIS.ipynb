{
 "cells": [
  {
   "cell_type": "markdown",
   "metadata": {},
   "source": [
    "# 题目要求\n",
    "* 输入：由n个数组成的一个序列S：a1,a2,…,an, \n",
    "    由m个数组成的一个序列T: b1,b2,…bm.\n",
    "* 输出：S和T的最长公共递增子序列X=c1c2,…,ck ，\n",
    "\n",
    "请分析优化解的结构，递归地定义优化解的代价，给出算法的伪代码和实现过程中的主要代码，并分析算法的时间复杂性. 随机生成两个数组，并展示运行结果。"
   ]
  },
  {
   "cell_type": "markdown",
   "metadata": {},
   "source": [
    "# 优化解的结构"
   ]
  },
  {
   "cell_type": "markdown",
   "metadata": {},
   "source": [
    "定义数组dp"
   ]
  },
  {
   "cell_type": "markdown",
   "metadata": {},
   "source": []
  },
  {
   "cell_type": "markdown",
   "metadata": {},
   "source": []
  },
  {
   "cell_type": "markdown",
   "metadata": {},
   "source": [
    "# 优化解的代价"
   ]
  },
  {
   "cell_type": "markdown",
   "metadata": {},
   "source": [
    "$dp[i,j]表示a_{1}～a_i和b_1～b_j所能构成的以b_j结尾的LCIS的长度$\n",
    "\n",
    "当$a_i\\neq b_j$时，有$dp[i,j]==dp[i-1,j]$\n",
    "\n",
    "当$a_i= b_j$时，有$$dp[i,j]=\\max \\limits_{0\\leq k<j,b_k<b_j}\\{dp[i-1,k]\\}+1=\\max \\limits_{0\\leq k<j,b_k<a_i}\\{dp[i-1,k]\\}+1$$"
   ]
  },
  {
   "cell_type": "markdown",
   "metadata": {},
   "source": [
    "# 伪代码"
   ]
  },
  {
   "cell_type": "markdown",
   "metadata": {},
   "source": [
    "# 代码"
   ]
  },
  {
   "cell_type": "code",
   "execution_count": 233,
   "metadata": {},
   "outputs": [],
   "source": [
    "# 未优化：O(nm^2)搜索做法\n",
    "def LCIS(S, T):\n",
    "    n = len(S)\n",
    "    m = len(T)\n",
    "    dp = [[0 for x in range(m+1)]for y in range(n+1)]\n",
    "    a=[-(1<<30)]+S\n",
    "    b=[-(1<<30)]+T\n",
    "    for i in range(1,n+1):\n",
    "        for j in range (1,m+1):\n",
    "            dp[i][j]=dp[i-1][j]\n",
    "            if a[i]==b[j]:\n",
    "                for k in range(0,j):\n",
    "                    if(b[k]<b[j]):\n",
    "                        dp[i][j]=max((dp[i-1][k]+1),dp[i][j])\n",
    "    l=dp[0][0]\n",
    "    for i in range(1,m+1):\n",
    "            l=max(l,dp[n][i])\n",
    "    return l,dp\n"
   ]
  },
  {
   "cell_type": "code",
   "execution_count": 237,
   "metadata": {},
   "outputs": [],
   "source": [
    "# 优化：O(nm)搜索做法\n",
    "def LCIS(S, T):\n",
    "    n = len(S)\n",
    "    m = len(T)\n",
    "    dp = [[0 for x in range(m+1)]for y in range(n+1)]\n",
    "\n",
    "    a=[-(1<<30)]+S\n",
    "    b=[-(1<<30)]+T\n",
    "    for i in range(1,n+1): \n",
    "        # k循环其实可省去，只需在j循环中记录当前LCIS的长度\n",
    "        # l: the length of LCIS\n",
    "        l,p=0,0\n",
    "        for j in range (1,m+1):\n",
    "            dp[i][j]=dp[i-1][j]\n",
    "            if a[i]==b[j]:\n",
    "                if dp[i][j]<l+1:\n",
    "                    dp[i][j]=l+1\n",
    "            elif a[i] > b[j]:\n",
    "                if dp[i][j]>l:\n",
    "                    l=dp[i][j]\n",
    "    l=0\n",
    "    for i in range(1,m+1):\n",
    "        if (dp[n][i]>l):\n",
    "            l=dp[n][i]\n",
    "    return l,dp"
   ]
  },
  {
   "cell_type": "code",
   "execution_count": 247,
   "metadata": {},
   "outputs": [],
   "source": [
    "# 优化：O(nm)搜索做法\n",
    "# 构造LCIS\n",
    "def LCIS(S, T):\n",
    "    n = len(S)\n",
    "    m = len(T)\n",
    "    dp = [[0 for x in range(m+1)]for y in range(n+1)]\n",
    "    prev=[[0 for x in range(m+1)]for y in range(n+1)]\n",
    "    # prev数组储存a_1~a_i，b1~b_j所构成的且\n",
    "    # 以b[j]为结尾的LCIS的倒数第二位元素在b中的编号\n",
    "    a=[-(1<<30)]+S\n",
    "    b=[-(1<<30)]+T\n",
    "    for i in range(1,n+1): \n",
    "        # l: the length of LCIS\n",
    "        # p: the end of LCIS\n",
    "        l,p=0,0\n",
    "        for j in range (1,m+1):\n",
    "            dp[i][j]=dp[i-1][j]\n",
    "            if a[i]==b[j]:\n",
    "                if dp[i][j]<l+1:\n",
    "                    dp[i][j]=l+1\n",
    "                    prev[i][j]=p\n",
    "            else:\n",
    "                prev[i][j]=prev[i-1][j]\n",
    "            if a[i] > b[j]:\n",
    "                if dp[i][j]>l:\n",
    "                    l=dp[i][j]\n",
    "                    p=j\n",
    "                    \n",
    "    l,end=0,0\n",
    "    for i in range(1,m+1):\n",
    "        if (dp[n][i]>l):\n",
    "            l=dp[n][i]\n",
    "            p=i\n",
    "    lcis=[b[p]]\n",
    "    while(prev[n][p]!=0):\n",
    "        p=prev[n][p]\n",
    "        lcis.append(b[p])\n",
    "    return l, lcis"
   ]
  },
  {
   "cell_type": "code",
   "execution_count": 249,
   "metadata": {},
   "outputs": [],
   "source": [
    "# 优化：O(nm)搜索做法\n",
    "# 构造LCIS\n",
    "# 简化dp数组存储结构\n",
    "def LCIS(S, T):\n",
    "    n = len(S)\n",
    "    m = len(T)\n",
    "    dp = [0 for x in range(m+1)]\n",
    "    prev=[[0 for x in range(m+1)]for y in range(n+1)]\n",
    "    # prev数组储存a_1~a_i，b1~b_j所构成的且\n",
    "    # 以b[j]为结尾的LCIS的倒数第二位元素在b中的编号\n",
    "    a=[-(1<<30)]+S\n",
    "    b=[-(1<<30)]+T\n",
    "    for i in range(1,n+1): \n",
    "        # l: the length of LCIS\n",
    "        # p: the end of LCIS\n",
    "        l,p=0,0\n",
    "        for j in range (1,m+1):\n",
    "            if a[i]==b[j]:\n",
    "                if dp[j]<l+1:\n",
    "                    dp[j]=l+1\n",
    "                    prev[i][j]=p\n",
    "            else:\n",
    "                prev[i][j]=prev[i-1][j]\n",
    "            if a[i] > b[j]:\n",
    "                if dp[j]>l:\n",
    "                    l=dp[j]\n",
    "                    p=j\n",
    "                    \n",
    "    l,end=0,0\n",
    "    for i in range(1,m+1):\n",
    "        if (dp[i]>l):\n",
    "            l=dp[i]\n",
    "            p=i\n",
    "    lcis=[b[p]]\n",
    "    while(prev[n][p]!=0):\n",
    "        p=prev[n][p]\n",
    "        lcis.append(b[p])\n",
    "    return l, lcis"
   ]
  },
  {
   "cell_type": "code",
   "execution_count": 256,
   "metadata": {},
   "outputs": [],
   "source": [
    "# 优化：O(nm)搜索做法\n",
    "# 构造LCIS\n",
    "# 简化dp数组存储结构\n",
    "# 简化prev数组存储结构\n",
    "def LCIS(S, T):\n",
    "    n = len(S)\n",
    "    m = len(T)\n",
    "    dp = [0 for x in range(m+1)]\n",
    "    prev=[0 for x in range(m+1)]\n",
    "    # prev数组储存a_1~a_i，b1~b_j所构成的且\n",
    "    # 以b[j]为结尾的LCIS的倒数第二位元素在b中的编号\n",
    "    a=[-(1<<30)]+S\n",
    "    b=[-(1<<30)]+T\n",
    "    for i in range(1,n+1): \n",
    "        # l: the length of LCIS\n",
    "        # p: the end of LCIS\n",
    "        l,p=0,0\n",
    "        for j in range (1,m+1):\n",
    "            if a[i]==b[j]:\n",
    "                if dp[j]<l+1:\n",
    "                    dp[j]=l+1\n",
    "                    prev[j]=p\n",
    "            if a[i] > b[j]:\n",
    "                if dp[j]>l:\n",
    "                    l=dp[j]\n",
    "                    p=j\n",
    "                    \n",
    "    l,end=0,0\n",
    "    for i in range(1,m+1):\n",
    "        if (dp[i]>l):\n",
    "            l=dp[i]\n",
    "            p=i\n",
    "    lcis=[b[p]]\n",
    "    while(prev[p]!=0):\n",
    "        p=prev[p]\n",
    "        lcis.append(b[p])\n",
    "    return l, lcis"
   ]
  },
  {
   "cell_type": "markdown",
   "metadata": {},
   "source": [
    "# 时间复杂性分析"
   ]
  },
  {
   "cell_type": "markdown",
   "metadata": {},
   "source": [
    "# 运行结果展示"
   ]
  },
  {
   "cell_type": "code",
   "execution_count": 258,
   "metadata": {},
   "outputs": [
    {
     "name": "stdout",
     "output_type": "stream",
     "text": [
      "Length of LCIS is 5\n",
      "LCIS is:\n",
      "-5,1,6,7,9,"
     ]
    }
   ],
   "source": [
    "def __main__():\n",
    "    S = [-5,4,1,23,41,8,6,7,5,9]\n",
    "    T = [-5,3,1,2,5,6,8,5,7,9]\n",
    "#     l, lcis = LCIS(S, T)\n",
    "    \n",
    "    l,lcis= LCIS(S, T)\n",
    "    print(\"Length of LCIS is\", l)\n",
    "    print(\"LCIS is:\")\n",
    "    lcis.reverse()\n",
    "    for i in lcis:\n",
    "        print(i, end=',')\n",
    "\n",
    "\n",
    "if __name__ == '__main__':\n",
    "    __main__()"
   ]
  }
 ],
 "metadata": {
  "kernelspec": {
   "display_name": "Python 3",
   "language": "python",
   "name": "python3"
  },
  "language_info": {
   "codemirror_mode": {
    "name": "ipython",
    "version": 3
   },
   "file_extension": ".py",
   "mimetype": "text/x-python",
   "name": "python",
   "nbconvert_exporter": "python",
   "pygments_lexer": "ipython3",
   "version": "3.7.0"
  }
 },
 "nbformat": 4,
 "nbformat_minor": 2
}
